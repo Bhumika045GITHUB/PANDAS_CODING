{
  "nbformat": 4,
  "nbformat_minor": 0,
  "metadata": {
    "colab": {
      "provenance": [],
      "authorship_tag": "ABX9TyNbyW0bwxuiY9HQXdZXUfYz",
      "include_colab_link": true
    },
    "kernelspec": {
      "name": "python3",
      "display_name": "Python 3"
    },
    "language_info": {
      "name": "python"
    }
  },
  "cells": [
    {
      "cell_type": "markdown",
      "metadata": {
        "id": "view-in-github",
        "colab_type": "text"
      },
      "source": [
        "<a href=\"https://colab.research.google.com/github/Bhumika045GITHUB/PANDAS_CODING/blob/main/Pandas_coding_2024.ipynb\" target=\"_parent\"><img src=\"https://colab.research.google.com/assets/colab-badge.svg\" alt=\"Open In Colab\"/></a>"
      ]
    },
    {
      "cell_type": "code",
      "execution_count": null,
      "metadata": {
        "colab": {
          "base_uri": "https://localhost:8080/"
        },
        "id": "fZfvYIyXsYH_",
        "outputId": "19911c4c-048d-41ae-9876-d1e728b2f86d"
      },
      "outputs": [
        {
          "output_type": "stream",
          "name": "stdout",
          "text": [
            "Category  Array  Queue  Stack\n",
            "Marks                        \n",
            "19          NaN   19.0    NaN\n",
            "20         20.0    NaN    NaN\n",
            "21          NaN    NaN   21.0\n",
            "   Tag  number\n",
            "0  NaN      25\n",
            "1  NaN      30\n",
            "2  NaN      26\n",
            "3  NaN      22\n",
            "          Cat_1  Cat_2  Cat_3\n",
            "Category  Array  Stack  Queue\n",
            "Marks        20     21     19\n"
          ]
        }
      ],
      "source": [
        "import pandas as pd\n",
        "\n",
        "# List1\n",
        "lst = [['Geek', 25], ['is', 30],\n",
        "       ['for', 26], ['Geeksforgeeks', 22]]\n",
        "\n",
        "columns =['Tag', 'number']\n",
        "\n",
        "data = {'Category':['Array', 'Stack', 'Queue'],\n",
        "\n",
        "        'Marks':[20, 21, 19]}\n",
        "\n",
        "# creating df object with columns specified\n",
        "df = pd.DataFrame(lst, columns =['Tag', 'number'])\n",
        "df['Tag'] = pd.to_numeric(df['Tag'], errors='coerce')\n",
        "\n",
        "df1 = pd.DataFrame.from_records(lst,columns=columns)\n",
        "df2 = pd.DataFrame.from_dict(zip(columns, zip(*lst)))\n",
        "df3 = pd.DataFrame(data, index =['Cat_1', 'Cat_2', 'Cat_3'])\n",
        "df4 = pd.DataFrame(data)\n",
        "df5 = df4.pivot(index='Marks', columns='Category', values='Marks')\n",
        "print(df5)\n",
        "print(df)\n",
        "print(df3.transpose())"
      ]
    },
    {
      "cell_type": "code",
      "source": [
        "# importing pandas\n",
        "\n",
        "import pandas as pd\n",
        "\n",
        "# List of list of dictionary initialization\n",
        "\n",
        "list = [\n",
        "\n",
        "    {\n",
        "\n",
        "        \"Student\": [{\"Exam\": 90, \"Grade\": \"a\"},\n",
        "\n",
        "                    {\"Exam\": 99, \"Grade\": \"b\"},\n",
        "\n",
        "                    {\"Exam\": 97, \"Grade\": \"c\"},\n",
        "\n",
        "                    ],\n",
        "\n",
        "        \"Name\": \"Paras Jain\"\n",
        "\n",
        "    },\n",
        "\n",
        "    {\n",
        "\n",
        "        \"Student\": [{\"Exam\": 89, \"Grade\": \"a\"},\n",
        "\n",
        "                    {\"Exam\": 80, \"Grade\": \"b\"}\n",
        "\n",
        "                    ],\n",
        "\n",
        "        \"Name\": \"Chunky Pandey\"\n",
        "\n",
        "    }\n",
        "]\n",
        "\n",
        "# rows list initialization\n",
        "\n",
        "rows = []\n",
        "\n",
        "# appending rows\n",
        "\n",
        "for data in list:\n",
        "\n",
        "    data_row = data['Student']\n",
        "\n",
        "    time = data['Name']\n",
        "\n",
        "\n",
        "    for row in data_row:\n",
        "\n",
        "        row['Name'] = time\n",
        "\n",
        "        rows.append(row)\n",
        "\n",
        "# using data frame\n",
        "\n",
        "df = pd.DataFrame(rows)\n",
        "\n",
        "# using pivot_table\n",
        "\n",
        "df = df.pivot_table(index='Name', columns=['Grade'],\n",
        "\n",
        "                    values=['Exam']).reset_index()\n",
        "\n",
        "# Defining columns\n",
        "\n",
        "df.columns = ['Name', 'Maths', 'Physics', 'Chemistry']\n",
        "\n",
        "# print dataframe\n",
        "\n",
        "print(df)\n"
      ],
      "metadata": {
        "id": "7fhjdRVDsiPb",
        "outputId": "a32bcbf7-4cc4-4d98-bdc8-22a835d9058d",
        "colab": {
          "base_uri": "https://localhost:8080/"
        }
      },
      "execution_count": null,
      "outputs": [
        {
          "output_type": "stream",
          "name": "stdout",
          "text": [
            "            Name  Maths  Physics  Chemistry\n",
            "0  Chunky Pandey   89.0     80.0        NaN\n",
            "1     Paras Jain   90.0     99.0       97.0\n"
          ]
        }
      ]
    },
    {
      "cell_type": "code",
      "source": [],
      "metadata": {
        "id": "QcTvMvSX0XpI"
      },
      "execution_count": null,
      "outputs": []
    },
    {
      "cell_type": "code",
      "source": [
        "#combination of df, series\n",
        "\n",
        "import pandas as pd\n",
        "name = pd.Series (['x' , 'y'])\n",
        "age = pd.Series(['33', '5'])\n",
        "frame = {'name':name, 'age':age}\n",
        "result = pd.DataFrame(frame)\n",
        "speed = [23,55,88]\n",
        "result['speed'] = pd.Series(speed)\n",
        "print(result)"
      ],
      "metadata": {
        "colab": {
          "base_uri": "https://localhost:8080/"
        },
        "id": "pBZrAnWRj9vz",
        "outputId": "2f6fc8b9-1fa4-4bfb-a6c4-85a9921d1d29"
      },
      "execution_count": null,
      "outputs": [
        {
          "output_type": "stream",
          "name": "stdout",
          "text": [
            "  name age  speed\n",
            "0    x  33     23\n",
            "1    y   5     55\n"
          ]
        }
      ]
    },
    {
      "cell_type": "code",
      "source": [
        "import pandas as pd\n",
        "\n",
        "# import the StrinIO function\n",
        "# from io module\n",
        "\n",
        "from io import StringIO\n",
        "\n",
        "# wrap the string data in StringIO function\n",
        "\n",
        "StringData = StringIO(\"\"\"Date;Event;Cost\n",
        "\n",
        "    10/2/2011;Music;10000\n",
        "\n",
        "    11/2/2011;Poetry;12000\n",
        "\n",
        "    12/2/2011;Theatre;5000\n",
        "\n",
        "    13/2/2011;Comedy;8000\n",
        "\n",
        "    \"\"\")\n",
        "\n",
        "# let's read the data using the Pandas\n",
        "# read_csv() function\n",
        "\n",
        "df = pd.read_csv(StringData, sep =\";\")\n",
        "\n",
        "# Print the dataframe\n",
        "\n",
        "print(df)"
      ],
      "metadata": {
        "colab": {
          "base_uri": "https://localhost:8080/"
        },
        "id": "o4eYWof30ZIr",
        "outputId": "b8f89f14-1d1b-4df4-a037-f7265ef8d578"
      },
      "execution_count": null,
      "outputs": [
        {
          "output_type": "stream",
          "name": "stdout",
          "text": [
            "            Date    Event   Cost\n",
            "0      10/2/2011    Music  10000\n",
            "1      11/2/2011   Poetry  12000\n",
            "2      12/2/2011  Theatre   5000\n",
            "3      13/2/2011   Comedy   8000\n"
          ]
        }
      ]
    },
    {
      "cell_type": "code",
      "source": [
        "https://www.geeksforgeeks.org/mapping-external-values-to-dataframe-values-in-pandas/amp/"
      ],
      "metadata": {
        "id": "fau0w0uu7K6A"
      },
      "execution_count": null,
      "outputs": []
    },
    {
      "cell_type": "code",
      "source": [
        "# shape and reshape in Pandas\n",
        "\n",
        "#shape. (The shape attribute of a Pandas dataframe or series provides the dimensions of the data structure.\n",
        "# It returns a tuple representing the number of rows and columns.) and reshape (The reshape functionality in Pandas is often achieved through methods like pivot, melt, stack, unstack, pivot_table, and transpose.\n",
        "#These methods are used to change the structure of the dataframe.)\n",
        "\n"
      ],
      "metadata": {
        "id": "YoYUH_RO7LgG"
      },
      "execution_count": null,
      "outputs": []
    },
    {
      "cell_type": "code",
      "source": [
        "import pandas as pd\n",
        "\n",
        "# Create a dataframe\n",
        "data = {'Name': ['Alice', 'Bob', 'Charlie'], 'Age': [25, 30, 35]}\n",
        "df = pd.DataFrame(data)\n",
        "\n",
        "# Get the shape of the dataframe\n",
        "print(df.shape)  # Output: (3, 2)\n"
      ],
      "metadata": {
        "id": "qt6R5ADa7LlZ"
      },
      "execution_count": null,
      "outputs": []
    },
    {
      "cell_type": "code",
      "source": [],
      "metadata": {
        "id": "ODgz50bt7Lq0"
      },
      "execution_count": null,
      "outputs": []
    },
    {
      "cell_type": "code",
      "source": [],
      "metadata": {
        "id": "mq9abY3U7Ltv"
      },
      "execution_count": null,
      "outputs": []
    }
  ]
}